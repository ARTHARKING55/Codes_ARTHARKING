{
 "cells": [
  {
   "cell_type": "code",
   "execution_count": 1,
   "metadata": {},
   "outputs": [],
   "source": [
    "import os\n",
    "import numpy as np\n",
    "import librosa\n",
    "from scipy.io.wavfile import write\n"
   ]
  },
  {
   "cell_type": "code",
   "execution_count": 2,
   "metadata": {},
   "outputs": [],
   "source": [
    "# # data1_path_train = r\"C:/Siddharth/UA_baseline/Train\"\n",
    "# # data1_path_test = r\"C:/Siddharth/UA_baseline/Test\"\n",
    "\n",
    "# data2_path_train = r\"C:\\Users\\admin\\Desktop\\Dhrupal\\extra\\file3.wav_16k.wav_norm.wav_mono.wav_silence.wav\"\n",
    "# # data2_path_test = r\"C:\\Users\\admin\\Desktop\\Dhrupal\\FoR_Norm\\testing\"\n",
    "\n",
    "# # data_src_list =  [data2_path_train, data2_path_test]  # "
   ]
  },
  {
   "cell_type": "code",
   "execution_count": 3,
   "metadata": {},
   "outputs": [],
   "source": [
    "# # data1_save_path_train = r\"C:/Siddharth/PReMI/Noisy Dysarthric Data/Gaussian -5 dB/UA/Train\"\n",
    "# # data1_save_path_test = r\"C:/Siddharth/PReMI/Noisy Dysarthric Data/Gaussian -5 dB/UA/Test\"\n",
    "\n",
    "# data2_save_path_train = r\"C:\\Users\\admin\\Desktop\\Dhrupal\\Noise_10Db\\10db\\train\"\n",
    "# data2_save_path_test =  r\"C:\\Users\\admin\\Desktop\\Dhrupal\\Noise_10Db\\10db\\test\"\n",
    "\n",
    "# data_dst_list = [ data2_save_path_train, data2_save_path_test]  #[data1_save_path_train, data1_save_path_test,"
   ]
  },
  {
   "cell_type": "code",
   "execution_count": null,
   "metadata": {},
   "outputs": [],
   "source": []
  },
  {
   "attachments": {},
   "cell_type": "markdown",
   "metadata": {},
   "source": [
    "### Give the value of SNR dB here "
   ]
  },
  {
   "cell_type": "code",
   "execution_count": 10,
   "metadata": {},
   "outputs": [],
   "source": [
    "SNR = -5  # desired SNR in dB"
   ]
  },
  {
   "cell_type": "code",
   "execution_count": 11,
   "metadata": {},
   "outputs": [],
   "source": [
    "# Load the babble noise signal\n",
    "# noise, noise_sample_rate = sf.read(r\"C:/Users/admin/Desktop/Monil/Infant Cry/babble.wav\")\n",
    "noise, noise_sample_rate = librosa.load(r\"C:\\Users\\admin\\Desktop\\Dhrupal\\Single Sample\\babble.wav\", sr=16000)"
   ]
  },
  {
   "cell_type": "code",
   "execution_count": 12,
   "metadata": {},
   "outputs": [],
   "source": [
    "max_length = 30*16000   #max audio length is 30 seconds\n",
    "file_path = r\"C:\\Users\\admin\\Desktop\\Dhrupal\\Single Sample\\file2.wav_16k.wav_norm.wav_mono.wav_silence.wav\"\n",
    "save_subfolder_path = r\"C:\\Users\\admin\\Desktop\\Dhrupal\\Single Sample\\-5\"\n",
    "\n",
    "# Load the original audio signal\n",
    "\n",
    "audio, sample_rate = librosa.load(file_path, sr=16000)\n",
    "    \n",
    "\n",
    "if len(audio) > max_length:\n",
    "    audio = audio[:max_length]\n",
    "\n",
    "signal_power = np.sum(audio ** 2) / len(audio)\n",
    "noise_power = np.sum(noise ** 2) / len(noise)\n",
    "noise_amplitude = np.sqrt(signal_power / (noise_power * 10 ** (SNR / 10)))\n",
    "\n",
    "# Generate a random starting point in the babble noise signal\n",
    "\n",
    "start = np.random.randint(0, noise.shape[0] - audio.shape[0])\n",
    "\n",
    "# Extract a segment of the babble noise signal starting from the random point\n",
    "noise_segment = noise[start:start + audio.shape[0]]\n",
    "\n",
    "# Scale the babble noise signal by the calculated amplitude and add it to the original audio signal\n",
    "audio_with_noise = audio + noise_amplitude * noise_segment\n",
    "\n",
    "# save the noisy signal as a waveform file\n",
    "output_path = os.path.join(save_subfolder_path, 'file3.wav_16k.wav_norm.wav_mono.wav_silence.wav')\n",
    "write(output_path, sample_rate, audio_with_noise)"
   ]
  },
  {
   "attachments": {},
   "cell_type": "markdown",
   "metadata": {},
   "source": [
    "### Code to save the noisy audio files "
   ]
  },
  {
   "cell_type": "code",
   "execution_count": 10,
   "metadata": {},
   "outputs": [
    {
     "name": "stderr",
     "output_type": "stream",
     "text": [
      "c:\\Users\\admin\\anaconda3\\lib\\site-packages\\librosa\\util\\decorators.py:88: UserWarning: PySoundFile failed. Trying audioread instead.\n",
      "  return f(*args, **kwargs)\n"
     ]
    }
   ],
   "source": [
    "# max_length = 30*16000   #max audio length is 30 seconds\n",
    "\n",
    "\n",
    "# for src_path, dst_path in zip(data_src_list, data_dst_list):\n",
    "\n",
    "#     # src_path : \"C:/Users/admin/Desktop/Monil/Dysarthric Word Recognition/Word Wise Audio Files/Train\"\n",
    "#     # dst_path : \"C:/Users/admin/Desktop/Monil/Dysarthric Word Recognition/Word Wise Noisy Babble/10dB/Train\"\n",
    "\n",
    "#     subfolders = [f.path for f in os.scandir(src_path) if f.is_dir()]\n",
    "\n",
    "#     for subfolder in subfolders:\n",
    "#         subfolder_name = os.path.basename(subfolder) #C1\n",
    "#         subfolder_path = os.path.join(src_path, subfolder_name) # \"C:/Users/admin/Desktop/Monil/Dysarthric Word Recognition/Word Wise Audio Files/Train/C1\"\n",
    "\n",
    "#         save_subfolder_path = os.path.join(dst_path, subfolder_name) # \"C:/Users/admin/Desktop/Monil/Dysarthric Word Recognition/Word Wise Noisy Babble/10dB/Train/C1\"\n",
    "#         os.mkdir(save_subfolder_path)\n",
    "\n",
    "#         for file in os.listdir(subfolder_path):\n",
    "#             file_path = os.path.join(subfolder_path, file)\n",
    "#             file_name = file\n",
    "\n",
    "#             # Load the original audio signal\n",
    "#             try:\n",
    "#                 audio, sample_rate = librosa.load(file_path, sr=16000)\n",
    "#             except:\n",
    "#                 continue\n",
    "\n",
    "#             if len(audio) > max_length:\n",
    "#                 audio = audio[:max_length]\n",
    "\n",
    "#             signal_power = np.sum(audio ** 2) / len(audio)\n",
    "#             noise_power = np.sum(noise ** 2) / len(noise)\n",
    "#             noise_amplitude = np.sqrt(signal_power / (noise_power * 10 ** (SNR / 10)))\n",
    "\n",
    "#             # Generate a random starting point in the babble noise signal\n",
    "#             try:\n",
    "#                 start = np.random.randint(0, noise.shape[0] - audio.shape[0])\n",
    "#             except:\n",
    "#                 continue\n",
    "\n",
    "#             # Extract a segment of the babble noise signal starting from the random point\n",
    "#             noise_segment = noise[start:start + audio.shape[0]]\n",
    "\n",
    "#             # Scale the babble noise signal by the calculated amplitude and add it to the original audio signal\n",
    "#             audio_with_noise = audio + noise_amplitude * noise_segment\n",
    "\n",
    "#             # save the noisy signal as a waveform file\n",
    "#             output_path = os.path.join(save_subfolder_path, file_name)\n",
    "#             write(output_path, sample_rate, audio_with_noise)\n",
    "\n",
    "            "
   ]
  },
  {
   "cell_type": "code",
   "execution_count": null,
   "metadata": {},
   "outputs": [],
   "source": []
  }
 ],
 "metadata": {
  "kernelspec": {
   "display_name": "base",
   "language": "python",
   "name": "python3"
  },
  "language_info": {
   "codemirror_mode": {
    "name": "ipython",
    "version": 3
   },
   "file_extension": ".py",
   "mimetype": "text/x-python",
   "name": "python",
   "nbconvert_exporter": "python",
   "pygments_lexer": "ipython3",
   "version": "3.9.12"
  },
  "orig_nbformat": 4
 },
 "nbformat": 4,
 "nbformat_minor": 2
}

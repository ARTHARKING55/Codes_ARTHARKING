import librosa
import librosa.display
import numpy as np
import matplotlib.pyplot as plt
audio_path = r"wave file path here"
y, sr = librosa.load(audio_path)
S = librosa.feature.melspectrogram(y=y, sr=sr)
S_dB = librosa.power_to_db(S, ref=np.max)
plt.figure(figsize=(10, 4))
librosa.display.specshow(S_dB, sr=sr, x_axis='time', y_axis='mel')
plt.xlabel('Time (s)')
plt.ylabel('Frequency (kHz)')
plt.tight_layout()
plt.show()
